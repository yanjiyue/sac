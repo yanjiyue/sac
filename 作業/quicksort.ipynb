{
 "cells": [
  {
   "cell_type": "markdown",
   "metadata": {},
   "source": [
    "以下是quick sort的程式碼 <br>\n",
    "example:[5,7,9,1,0,10]"
   ]
  },
   {
   "cell_type": "code",
   "execution_count": 1,
   "metadata": {},
   "outputs": [],
   "source": [
    "def quicksort(data):\n",
    "    if len(data)<2:\n",
    "        return data\n",
    "    else:\n",
    "        mid=data[len(data)]\n",
    "        left=[]\n",
    "        right=[]\n",
    "        data.remove(mid)\n",
    "        for a in data:\n",
    "           if a>=mid:\n",
    "               right.append(a)\n",
    "           else:\n",
    "               left.append(a)\n",
    "        return quicksort(left)+[mid]+quicksort(right)\n"
   ]
  },
  {
   "cell_type": "markdown",
   "metadata": {},
   "source": [
    " 首先審視data是否需要進行quicksort，假如data僅一個數，則不需要排序，則直接返回<br><br>\n",

    "進入quicksort後，選取一個基準數（最後一個數），同時建立左右兩側列表<br>\n",
    "為使基準數不與自己比較（防止重複），所以將mid移除<br>\n",
    "基準數分別與每個數進行比較，比基準數大的放入右邊列表，比基準數小的放入左邊列表<br>\n",
    "一次排列完成後，再分別對左右兩列表進行同樣操作，直至左右列表內數據數量都為1時，程式結束，完成排序。<br><br>\n",
    
    "_time complexities_<br>\n",
    "<ul>\n",
    "    <li><b>best case</b>: O(nlogn) 當數列本身按從小到大排列時</li>\n",
    "    <li><b>worst case</b>: O(n^2)當數列按從大到小排列時</li>\n",
    "    <li><b>average case</b>: O(nlogn)</li>\n",
    "</ul>"
   ]
  }
 ],
 "metadata": {
  "kernelspec": {
   "display_name": "Python 3",
   "language": "python",
   "name": "python3"
  },
  "language_info": {
   "codemirror_mode": {
    "name": "ipython",
    "version": 3
   },
   "file_extension": ".py",
   "mimetype": "text/x-python",
   "name": "python",
   "nbconvert_exporter": "python",
   "pygments_lexer": "ipython3",
   "version": "3.6.3"
  }
 },
 "nbformat": 4,
 "nbformat_minor": 2
}
