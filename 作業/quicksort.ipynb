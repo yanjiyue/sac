def quick_sort
#abc
